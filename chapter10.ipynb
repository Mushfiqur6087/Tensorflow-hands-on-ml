{
 "cells": [
  {
   "cell_type": "code",
   "execution_count": 25,
   "metadata": {},
   "outputs": [],
   "source": [
    "from sklearn.datasets import fetch_california_housing\n",
    "from sklearn.metrics import mean_squared_error\n",
    "from sklearn.model_selection import train_test_split\n",
    "from sklearn.neural_network import MLPRegressor\n",
    "from sklearn.preprocessing import StandardScaler\n",
    "from sklearn.pipeline import make_pipeline\n",
    "import matplotlib.pyplot as plt"
   ]
  },
  {
   "cell_type": "code",
   "execution_count": 26,
   "metadata": {},
   "outputs": [
    {
     "name": "stdout",
     "output_type": "stream",
     "text": [
      "   MedInc  HouseAge  AveRooms  AveBedrms  Population  AveOccup  Latitude  \\\n",
      "0  8.3252      41.0  6.984127   1.023810       322.0  2.555556     37.88   \n",
      "1  8.3014      21.0  6.238137   0.971880      2401.0  2.109842     37.86   \n",
      "2  7.2574      52.0  8.288136   1.073446       496.0  2.802260     37.85   \n",
      "3  5.6431      52.0  5.817352   1.073059       558.0  2.547945     37.85   \n",
      "4  3.8462      52.0  6.281853   1.081081       565.0  2.181467     37.85   \n",
      "\n",
      "   Longitude  \n",
      "0    -122.23  \n",
      "1    -122.22  \n",
      "2    -122.24  \n",
      "3    -122.25  \n",
      "4    -122.25  \n",
      "   target\n",
      "0   4.526\n",
      "1   3.585\n",
      "2   3.521\n",
      "3   3.413\n",
      "4   3.422\n"
     ]
    }
   ],
   "source": [
    "housing = fetch_california_housing()\n",
    "import pandas as pd  # type: ignore\n",
    "X = pd.DataFrame(housing.data, columns=housing.feature_names)\n",
    "print(X.head())\n",
    "y = housing.target\n",
    "Y=pd.DataFrame(y,columns=['target'])\n",
    "print(Y.head())"
   ]
  },
  {
   "cell_type": "code",
   "execution_count": 27,
   "metadata": {},
   "outputs": [],
   "source": [
    "X_train, X_test, y_train, y_test = train_test_split(X, y, random_state=1)\n",
    "X_train, X_val, y_train, y_val = train_test_split(X_train, y_train, random_state=1)\n",
    "MLP = make_pipeline(StandardScaler(), MLPRegressor(hidden_layer_sizes=(100, 100), max_iter=1000, random_state=1))\n",
    "MLP.fit(X_train, y_train)\n",
    "y_pred = MLP.predict(X_val)\n",
    "rmse = mean_squared_error(y_val, y_pred)\n",
    "\n",
    "# MLP regressor doesn't have a activation function for output layer, so we can't use it for classification"
   ]
  },
  {
   "cell_type": "code",
   "execution_count": 28,
   "metadata": {},
   "outputs": [
    {
     "name": "stdout",
     "output_type": "stream",
     "text": [
      "0.27504413873229566\n"
     ]
    }
   ],
   "source": [
    "print(rmse)"
   ]
  },
  {
   "cell_type": "code",
   "execution_count": 29,
   "metadata": {},
   "outputs": [],
   "source": [
    "import tensorflow as tf\n",
    "fashion_mnist = tf.keras.datasets.fashion_mnist.load_data()\n",
    "(X_train, y_train), (X_test, y_test) = fashion_mnist"
   ]
  },
  {
   "cell_type": "code",
   "execution_count": 30,
   "metadata": {},
   "outputs": [],
   "source": [
    "tf.random.set_seed(1)\n",
    "model = tf.keras.Sequential([\n",
    "    tf.keras.layers.Flatten(input_shape=(28, 28)),\n",
    "    tf.keras.layers.Dense(128, activation='relu'),\n",
    "    tf.keras.layers.Dense(10, activation='softmax')\n",
    "])\n",
    "model.compile(optimizer='adam', loss='sparse_categorical_crossentropy', metrics=['accuracy'])\n",
    "# we can manually set the optimizer, loss and metrics\n",
    "# optimizer = tf.keras.optimizers.Adam(learning_rate=0.01) which is the default value of learning rate\n",
    "# loss = tf.keras.losses.SparseCategoricalCrossentropy()\n",
    "# metrics = tf.keras.metrics.SparseCategoricalAccuracy()\n",
    "# model.compile(optimizer=optimizer, loss=loss, metrics=[metrics])"
   ]
  },
  {
   "cell_type": "code",
   "execution_count": 31,
   "metadata": {},
   "outputs": [
    {
     "name": "stdout",
     "output_type": "stream",
     "text": [
      "Model: \"sequential_1\"\n",
      "_________________________________________________________________\n",
      " Layer (type)                Output Shape              Param #   \n",
      "=================================================================\n",
      " flatten_1 (Flatten)         (None, 784)               0         \n",
      "                                                                 \n",
      " dense_2 (Dense)             (None, 128)               100480    \n",
      "                                                                 \n",
      " dense_3 (Dense)             (None, 10)                1290      \n",
      "                                                                 \n",
      "=================================================================\n",
      "Total params: 101,770\n",
      "Trainable params: 101,770\n",
      "Non-trainable params: 0\n",
      "_________________________________________________________________\n"
     ]
    }
   ],
   "source": [
    "model.summary()"
   ]
  },
  {
   "cell_type": "code",
   "execution_count": 32,
   "metadata": {},
   "outputs": [
    {
     "name": "stdout",
     "output_type": "stream",
     "text": [
      "Epoch 1/10\n",
      "1875/1875 [==============================] - 5s 2ms/step - loss: 2.9750 - accuracy: 0.6606 - val_loss: 0.9159 - val_accuracy: 0.6711\n",
      "Epoch 2/10\n",
      "1875/1875 [==============================] - 4s 2ms/step - loss: 0.7422 - accuracy: 0.7115 - val_loss: 0.6828 - val_accuracy: 0.7176\n",
      "Epoch 3/10\n",
      "1875/1875 [==============================] - 4s 2ms/step - loss: 0.6172 - accuracy: 0.7516 - val_loss: 0.6284 - val_accuracy: 0.7629\n",
      "Epoch 4/10\n",
      "1875/1875 [==============================] - 4s 2ms/step - loss: 0.5888 - accuracy: 0.7695 - val_loss: 0.5703 - val_accuracy: 0.7768\n",
      "Epoch 5/10\n",
      "1875/1875 [==============================] - 4s 2ms/step - loss: 0.5599 - accuracy: 0.7826 - val_loss: 0.5653 - val_accuracy: 0.7867\n",
      "Epoch 6/10\n",
      "1875/1875 [==============================] - 4s 2ms/step - loss: 0.5470 - accuracy: 0.7889 - val_loss: 0.5999 - val_accuracy: 0.7814\n",
      "Epoch 7/10\n",
      "1875/1875 [==============================] - 4s 2ms/step - loss: 0.5273 - accuracy: 0.8026 - val_loss: 0.7039 - val_accuracy: 0.7969\n",
      "Epoch 8/10\n",
      "1875/1875 [==============================] - 4s 2ms/step - loss: 0.5012 - accuracy: 0.8280 - val_loss: 0.5247 - val_accuracy: 0.8240\n",
      "Epoch 9/10\n",
      "1875/1875 [==============================] - 5s 2ms/step - loss: 0.4878 - accuracy: 0.8334 - val_loss: 0.5717 - val_accuracy: 0.8218\n",
      "Epoch 10/10\n",
      "1875/1875 [==============================] - 5s 2ms/step - loss: 0.4796 - accuracy: 0.8352 - val_loss: 0.6184 - val_accuracy: 0.7827\n"
     ]
    },
    {
     "data": {
      "text/plain": [
       "<keras.callbacks.History at 0x1ed37653d30>"
      ]
     },
     "execution_count": 32,
     "metadata": {},
     "output_type": "execute_result"
    }
   ],
   "source": [
    "model.fit(X_train, y_train, epochs=10, validation_data=(X_test, y_test))"
   ]
  },
  {
   "cell_type": "code",
   "execution_count": 33,
   "metadata": {},
   "outputs": [
    {
     "data": {
      "text/plain": [
       "[array([[ 0.00863767,  0.0575783 , -0.07552539, ...,  0.01192359,\n",
       "          0.08208731,  0.05723625],\n",
       "        [ 0.0594772 ,  0.05610818, -0.04099138, ...,  0.00169024,\n",
       "          0.00478606, -0.06749012],\n",
       "        [ 0.02143829,  0.08745535, -0.06589129, ...,  0.04819555,\n",
       "         -0.00438186,  0.00141259],\n",
       "        ...,\n",
       "        [ 0.01549622, -0.06085027, -0.07030976, ..., -0.02971169,\n",
       "         -0.02896161,  0.0241556 ],\n",
       "        [-0.06235397,  0.03697084, -0.04091032, ...,  0.01848583,\n",
       "         -0.06556907,  0.04014236],\n",
       "        [ 0.0235613 ,  0.0673118 , -0.0489563 , ..., -0.07716613,\n",
       "          0.10083144, -0.07903408]], dtype=float32),\n",
       " array([-2.46453322e-02, -2.31681727e-02, -3.07265241e-02,  2.17588037e-01,\n",
       "        -3.86087969e-02, -3.09855472e-02, -3.53497304e-02, -2.45407261e-02,\n",
       "         8.03623259e-01, -1.26494700e-02, -3.64563279e-02, -2.21864786e-02,\n",
       "        -4.20040816e-01, -4.70013805e-02, -3.31213437e-02, -2.33929008e-02,\n",
       "        -8.54500607e-02, -2.29953919e-02, -2.06403509e-02,  2.09977897e-03,\n",
       "        -2.48512588e-02, -3.63233536e-02,  2.63155662e-02,  1.63306799e-02,\n",
       "        -6.16526837e-03, -4.53825861e-01,  4.12864476e-01,  5.08924067e-01,\n",
       "        -3.20856683e-02, -2.02987306e-02,  4.67436016e-02, -7.49991536e-02,\n",
       "        -1.92143731e-02,  1.43784797e-02, -3.93232591e-02,  3.29293966e-01,\n",
       "        -1.58463810e-02,  2.10187361e-02, -1.75743438e-02, -2.51031481e-02,\n",
       "        -2.96511222e-02, -1.71715934e-02, -4.65392917e-02, -2.53606960e-02,\n",
       "        -5.34134090e-01, -1.13737285e-02, -3.82343493e-02,  3.99934454e-03,\n",
       "        -6.75201938e-02, -4.34707676e-04, -2.38481537e-02, -2.37453058e-02,\n",
       "        -1.82449855e-02, -2.57464815e-02, -2.52527259e-02, -2.73678917e-02,\n",
       "        -2.62020435e-02, -1.00477748e-02, -4.71560545e-02, -5.06748594e-02,\n",
       "        -3.61240059e-02, -6.98112249e-02, -3.07015842e-04, -3.76121141e-02,\n",
       "        -4.24275458e-01, -1.02374014e-02, -1.68807842e-02, -4.49022315e-02,\n",
       "        -4.94717397e-02, -3.94751020e-02, -6.64097443e-02, -4.38796878e-02,\n",
       "        -3.30313742e-02, -2.57569309e-02, -8.62424746e-02, -5.15775010e-02,\n",
       "        -2.78727058e-02, -4.31988426e-02, -1.32328197e-02, -2.09996607e-02,\n",
       "         1.01069491e-02, -3.13804373e-02, -3.45998295e-02, -2.33528353e-02,\n",
       "        -4.23238166e-02, -5.20853586e-02,  2.48562600e-02, -6.10829554e-02,\n",
       "        -3.38821411e-02, -1.68223772e-02, -3.71244401e-02, -2.02164426e-02,\n",
       "        -1.28568290e-03,  8.49286079e-01, -4.13060859e-02, -1.73518136e-02,\n",
       "        -8.07963661e-04, -2.70956047e-02, -3.56600471e-02, -2.23196074e-02,\n",
       "        -1.77503768e-02, -1.21592311e-02, -1.30155608e-02,  2.12372944e-01,\n",
       "        -2.13288683e-02, -2.39816196e-02, -1.87194590e-02, -2.98469871e-01,\n",
       "        -3.29956375e-02,  2.01424118e-02, -1.82991829e-02, -9.19626746e-03,\n",
       "        -2.00998075e-02, -4.31891084e-02, -2.95438226e-02, -2.68104691e-02,\n",
       "        -3.40258665e-02, -1.96674801e-02, -3.79041433e-02, -3.89888138e-02,\n",
       "        -4.38178070e-02, -1.27289845e-02, -4.26886082e-02,  1.96896363e-02,\n",
       "        -3.64659429e-02, -2.65412815e-02, -5.16163521e-02, -2.97323540e-02],\n",
       "       dtype=float32)]"
      ]
     },
     "execution_count": 33,
     "metadata": {},
     "output_type": "execute_result"
    }
   ],
   "source": [
    "model.layers[1].get_weights()\n"
   ]
  },
  {
   "cell_type": "markdown",
   "metadata": {
    "tags": []
   },
   "source": [
    "#we use sparse categorical crossentropy because we have integer labels\n",
    "\n",
    "#if we have one hot encoded labels we can use categorical crossentropy\n",
    "\n",
    "#if we have binary labels we can use binary crossentropy\n",
    "\n",
    "#we use metrics=['accuracy'] to get the accuracy of the model\n",
    "\n",
    "#we use softmax activation in the output layer because we have multiple classes\n",
    "\n",
    "#we use relu activation in the hidden layer because it is a good default activation function"
   ]
  },
  {
   "cell_type": "code",
   "execution_count": 34,
   "metadata": {},
   "outputs": [
    {
     "name": "stdout",
     "output_type": "stream",
     "text": [
      "Epoch 1/10\n",
      "1875/1875 [==============================] - 4s 2ms/step - loss: 0.4737 - accuracy: 0.8381 - val_loss: 0.5612 - val_accuracy: 0.7981\n",
      "Epoch 2/10\n",
      "1875/1875 [==============================] - 4s 2ms/step - loss: 0.4696 - accuracy: 0.8390 - val_loss: 0.5141 - val_accuracy: 0.8402\n",
      "Epoch 3/10\n",
      "1875/1875 [==============================] - 6s 3ms/step - loss: 0.4640 - accuracy: 0.8421 - val_loss: 0.5388 - val_accuracy: 0.8270\n",
      "Epoch 4/10\n",
      "1875/1875 [==============================] - 4s 2ms/step - loss: 0.4730 - accuracy: 0.8401 - val_loss: 0.5444 - val_accuracy: 0.8292\n",
      "Epoch 5/10\n",
      "1875/1875 [==============================] - 5s 3ms/step - loss: 0.4687 - accuracy: 0.8409 - val_loss: 0.5306 - val_accuracy: 0.8303\n",
      "Epoch 6/10\n",
      "1875/1875 [==============================] - 4s 2ms/step - loss: 0.4614 - accuracy: 0.8445 - val_loss: 0.5353 - val_accuracy: 0.8291\n",
      "Epoch 7/10\n",
      "1875/1875 [==============================] - 4s 2ms/step - loss: 0.4567 - accuracy: 0.8454 - val_loss: 0.5687 - val_accuracy: 0.8212\n",
      "Epoch 8/10\n",
      "1875/1875 [==============================] - 4s 2ms/step - loss: 0.4543 - accuracy: 0.8467 - val_loss: 0.5237 - val_accuracy: 0.8357\n",
      "Epoch 9/10\n",
      "1875/1875 [==============================] - 4s 2ms/step - loss: 0.4511 - accuracy: 0.8475 - val_loss: 0.5924 - val_accuracy: 0.8255\n",
      "Epoch 10/10\n",
      "1875/1875 [==============================] - 4s 2ms/step - loss: 0.4574 - accuracy: 0.8446 - val_loss: 0.5826 - val_accuracy: 0.8129\n"
     ]
    }
   ],
   "source": [
    "history = model.fit(X_train, y_train, epochs=10, validation_data=(X_test, y_test))"
   ]
  },
  {
   "cell_type": "code",
   "execution_count": 35,
   "metadata": {},
   "outputs": [
    {
     "data": {
      "text/plain": [
       "{'loss': [0.4737163782119751,\n",
       "  0.46960294246673584,\n",
       "  0.46396222710609436,\n",
       "  0.4729555547237396,\n",
       "  0.46867942810058594,\n",
       "  0.4613783657550812,\n",
       "  0.45672714710235596,\n",
       "  0.454289048910141,\n",
       "  0.4510613679885864,\n",
       "  0.4573594033718109],\n",
       " 'accuracy': [0.8381166458129883,\n",
       "  0.8389666676521301,\n",
       "  0.8420833349227905,\n",
       "  0.8401166796684265,\n",
       "  0.8408833146095276,\n",
       "  0.8444666862487793,\n",
       "  0.8453500270843506,\n",
       "  0.8467166423797607,\n",
       "  0.8475499749183655,\n",
       "  0.8445833325386047],\n",
       " 'val_loss': [0.5612165331840515,\n",
       "  0.5141218304634094,\n",
       "  0.538796603679657,\n",
       "  0.5443534851074219,\n",
       "  0.5305647253990173,\n",
       "  0.5352607369422913,\n",
       "  0.5687479972839355,\n",
       "  0.5236817598342896,\n",
       "  0.5924455523490906,\n",
       "  0.5825991630554199],\n",
       " 'val_accuracy': [0.7980999946594238,\n",
       "  0.8402000069618225,\n",
       "  0.8270000219345093,\n",
       "  0.829200029373169,\n",
       "  0.830299973487854,\n",
       "  0.8291000127792358,\n",
       "  0.8212000131607056,\n",
       "  0.8356999754905701,\n",
       "  0.8255000114440918,\n",
       "  0.8129000067710876]}"
      ]
     },
     "execution_count": 35,
     "metadata": {},
     "output_type": "execute_result"
    }
   ],
   "source": [
    "history.history"
   ]
  },
  {
   "cell_type": "code",
   "execution_count": 36,
   "metadata": {},
   "outputs": [
    {
     "data": {
      "text/plain": [
       "<Axes: >"
      ]
     },
     "execution_count": 36,
     "metadata": {},
     "output_type": "execute_result"
    },
    {
     "data": {
      "image/png": "[encoded data removed]",
      "text/plain": [
       "<Figure size 800x500 with 1 Axes>"
      ]
     },
     "metadata": {},
     "output_type": "display_data"
    }
   ],
   "source": [
    "pd.DataFrame(history.history).plot(figsize=(8, 5))"
   ]
  },
  {
   "cell_type": "code",
   "execution_count": 37,
   "metadata": {},
   "outputs": [
    {
     "name": "stdout",
     "output_type": "stream",
     "text": [
      "Epoch 1/10\n",
      "1875/1875 [==============================] - 3s 2ms/step - loss: 0.4541 - accuracy: 0.8450\n",
      "Epoch 2/10\n",
      "1875/1875 [==============================] - 4s 2ms/step - loss: 0.4531 - accuracy: 0.8452\n",
      "Epoch 3/10\n",
      "1875/1875 [==============================] - 4s 2ms/step - loss: 0.4516 - accuracy: 0.8481\n",
      "Epoch 4/10\n",
      "1875/1875 [==============================] - 4s 2ms/step - loss: 0.4571 - accuracy: 0.8454\n",
      "Epoch 5/10\n",
      "1875/1875 [==============================] - 4s 2ms/step - loss: 0.4504 - accuracy: 0.8479\n",
      "Epoch 6/10\n",
      "1875/1875 [==============================] - 4s 2ms/step - loss: 0.4535 - accuracy: 0.8479\n",
      "Epoch 7/10\n",
      "1875/1875 [==============================] - 4s 2ms/step - loss: 0.4473 - accuracy: 0.8486\n",
      "Epoch 8/10\n",
      "1875/1875 [==============================] - 4s 2ms/step - loss: 0.4419 - accuracy: 0.8496\n",
      "Epoch 9/10\n",
      "1875/1875 [==============================] - 4s 2ms/step - loss: 0.4468 - accuracy: 0.8511\n",
      "Epoch 10/10\n",
      "1875/1875 [==============================] - 3s 2ms/step - loss: 0.4498 - accuracy: 0.8484\n"
     ]
    }
   ],
   "source": [
    "# history.history is a dictionary with keys 'loss', 'accuracy', 'val_loss', 'val_accuracy'\n",
    "# what happens if we train model without validation data\n",
    "history = model.fit(X_train, y_train, epochs=10)"
   ]
  },
  {
   "cell_type": "code",
   "execution_count": 41,
   "metadata": {},
   "outputs": [
    {
     "name": "stdout",
     "output_type": "stream",
     "text": [
      "313/313 [==============================] - 0s 1ms/step\n"
     ]
    },
    {
     "data": {
      "image/png": "[encoded data removed]",
      "text/plain": [
       "<Figure size 720x240 with 3 Axes>"
      ]
     },
     "metadata": {},
     "output_type": "display_data"
    }
   ],
   "source": [
    "y_pred = model.predict(X_test)\n",
    "y_pred[:3]\n",
    "# the output is the probability of each class, we can use argmax to get the predicted class\n",
    "y_pred = y_pred.argmax(axis=1)\n",
    "y_pred[:3]\n",
    "\n",
    "# we need corresponding class names to interpret the results\n",
    "class_names = ['T-shirt/top', 'Trouser', 'Pullover', 'Dress', 'Coat', 'Sandal', 'Shirt', 'Sneaker', 'Bag', 'Ankle boot']\n",
    "class_names[y_pred[0]]\n",
    "\n",
    "#lets print the first 3 images\n",
    "plt.figure(figsize=(7.2, 2.4))\n",
    "for index, image in enumerate(X_test[:3]):\n",
    "    plt.subplot(1, 3, index + 1)\n",
    "    plt.imshow(image, cmap='binary', interpolation='nearest')\n",
    "    plt.axis('off')\n",
    "    plt.title(class_names[y_pred[index]], fontsize=12)"
   ]
  },
  {
   "cell_type": "code",
   "execution_count": 42,
   "metadata": {},
   "outputs": [],
   "source": [
    "# we can also use this for regression problems\n",
    "from sklearn.datasets import fetch_california_housing\n",
    "from sklearn.model_selection import train_test_split    \n",
    "from sklearn.preprocessing import StandardScaler\n",
    "import tensorflow as tf\n",
    "import pandas as pd\n",
    "import numpy as np\n"
   ]
  },
  {
   "cell_type": "code",
   "execution_count": 43,
   "metadata": {},
   "outputs": [
    {
     "name": "stdout",
     "output_type": "stream",
     "text": [
      "Epoch 1/10\n",
      "363/363 [==============================] - 1s 2ms/step - loss: 0.8589 - val_loss: 0.4196\n",
      "Epoch 2/10\n",
      "363/363 [==============================] - 1s 2ms/step - loss: 0.4005 - val_loss: 0.3749\n",
      "Epoch 3/10\n",
      "363/363 [==============================] - 1s 2ms/step - loss: 0.3698 - val_loss: 0.3481\n",
      "Epoch 4/10\n",
      "363/363 [==============================] - 1s 2ms/step - loss: 0.3512 - val_loss: 0.3549\n",
      "Epoch 5/10\n",
      "363/363 [==============================] - 1s 2ms/step - loss: 0.3443 - val_loss: 0.3458\n",
      "Epoch 6/10\n",
      "363/363 [==============================] - 1s 2ms/step - loss: 0.3328 - val_loss: 0.3413\n",
      "Epoch 7/10\n",
      "363/363 [==============================] - 1s 2ms/step - loss: 0.3190 - val_loss: 0.3144\n",
      "Epoch 8/10\n",
      "363/363 [==============================] - 1s 2ms/step - loss: 0.3131 - val_loss: 0.3286\n",
      "Epoch 9/10\n",
      "363/363 [==============================] - 1s 2ms/step - loss: 0.3123 - val_loss: 0.3547\n",
      "Epoch 10/10\n",
      "363/363 [==============================] - 1s 2ms/step - loss: 0.3033 - val_loss: 0.3092\n"
     ]
    },
    {
     "data": {
      "text/plain": [
       "<keras.callbacks.History at 0x1ed2cdaa050>"
      ]
     },
     "execution_count": 43,
     "metadata": {},
     "output_type": "execute_result"
    }
   ],
   "source": [
    "housing = fetch_california_housing()\n",
    "X = pd.DataFrame(housing.data, columns=housing.feature_names)\n",
    "y = housing.target\n",
    "X_train_full, X_test, y_train_full, y_test = train_test_split(X, y, random_state=1)\n",
    "X_train, X_val, y_train, y_val = train_test_split(X_train_full, y_train_full, random_state=1)\n",
    "norm_layer = tf.keras.layers.experimental.preprocessing.Normalization()\n",
    "norm_layer.adapt(np.array(X_train))\n",
    "model = tf.keras.Sequential([\n",
    "    norm_layer,\n",
    "    tf.keras.layers.Dense(50, activation='relu'),\n",
    "    tf.keras.layers.Dense(50, activation='relu'),\n",
    "    tf.keras.layers.Dense(50, activation='relu'),\n",
    "    tf.keras.layers.Dense(1)\n",
    "])\n",
    "\n",
    "model.compile(optimizer='adam', loss='mean_squared_error')\n",
    "model.fit(X_train, y_train, epochs=10, validation_data=(X_val, y_val))"
   ]
  },
  {
   "cell_type": "code",
   "execution_count": 44,
   "metadata": {},
   "outputs": [
    {
     "name": "stdout",
     "output_type": "stream",
     "text": [
      "Epoch 1/10\n",
      "363/363 [==============================] - 1s 2ms/step - loss: 413.8363 - val_loss: 4.1020\n",
      "Epoch 2/10\n",
      "363/363 [==============================] - 1s 2ms/step - loss: 4.8385 - val_loss: 1.9496\n",
      "Epoch 3/10\n",
      "363/363 [==============================] - 1s 2ms/step - loss: 2.4014 - val_loss: 1.7834\n",
      "Epoch 4/10\n",
      "363/363 [==============================] - 1s 2ms/step - loss: 2.7717 - val_loss: 0.9345\n",
      "Epoch 5/10\n",
      "363/363 [==============================] - 1s 2ms/step - loss: 1.0115 - val_loss: 0.9902\n",
      "Epoch 6/10\n",
      "363/363 [==============================] - 1s 2ms/step - loss: 1.4084 - val_loss: 0.8675\n",
      "Epoch 7/10\n",
      "363/363 [==============================] - 1s 2ms/step - loss: 1.6872 - val_loss: 0.8475\n",
      "Epoch 8/10\n",
      "363/363 [==============================] - 1s 2ms/step - loss: 1.5612 - val_loss: 5.2924\n",
      "Epoch 9/10\n",
      "363/363 [==============================] - 1s 2ms/step - loss: 1.4116 - val_loss: 0.8668\n",
      "Epoch 10/10\n",
      "363/363 [==============================] - 1s 2ms/step - loss: 4.5666 - val_loss: 47.3739\n"
     ]
    },
    {
     "data": {
      "text/plain": [
       "<keras.callbacks.History at 0x1ed2e20da20>"
      ]
     },
     "execution_count": 44,
     "metadata": {},
     "output_type": "execute_result"
    }
   ],
   "source": [
    "#lets build a wide and deep model\n",
    "input = tf.keras.layers.Input(shape=X_train.shape[1:])\n",
    "hidden1 = tf.keras.layers.Dense(30, activation='relu')(input)\n",
    "hidden2 = tf.keras.layers.Dense(30, activation='relu')(hidden1)\n",
    "concat = tf.keras.layers.concatenate([input, hidden2])\n",
    "output = tf.keras.layers.Dense(1)(concat)\n",
    "model = tf.keras.Model(inputs=[input], outputs=[output])\n",
    "\n",
    "model.compile(optimizer='adam', loss='mean_squared_error')\n",
    "model.fit(X_train, y_train, epochs=10, validation_data=(X_val, y_val))\n",
    "\n",
    "\n",
    "# wide and deep model can be used for classification as well\n",
    "# wide model is used to memorize patterns and deep model is used to generalize patterns\n",
    "\n"
   ]
  }
 ],
 "metadata": {
  "kernelspec": {
   "display_name": "tf",
   "language": "python",
   "name": "python3"
  },
  "language_info": {
   "codemirror_mode": {
    "name": "ipython",
    "version": 3
   },
   "file_extension": ".py",
   "mimetype": "text/x-python",
   "name": "python",
   "nbconvert_exporter": "python",
   "pygments_lexer": "ipython3",
   "version": "3.10.13"
  }
 },
 "nbformat": 4,
 "nbformat_minor": 2
}
